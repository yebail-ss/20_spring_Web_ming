{
 "cells": [
  {
   "cell_type": "markdown",
   "metadata": {},
   "source": [
    "# 20春_Web数据挖掘\n",
    "# 项目0 by 杨少少 181012121"
   ]
  },
  {
   "cell_type": "markdown",
   "metadata": {},
   "source": [
    "# 第一周作业"
   ]
  },
  {
   "cell_type": "markdown",
   "metadata": {},
   "source": [
    "## 找另外的工作"
   ]
  },
  {
   "cell_type": "code",
   "execution_count": 1,
   "metadata": {},
   "outputs": [
    {
     "name": "stdout",
     "output_type": "stream",
     "text": [
      "工作 产品设计\n",
      "工作 {'https://www.liepin.com/job/1926595441.shtml'}\n",
      "工作 产品设计工程师-2020届\n",
      "工作 {'https://www.liepin.com/job/1926326427.shtml'}\n",
      "工作 产品设计经理\n",
      "工作 {'https://www.liepin.com/job/1926670753.shtml'}\n",
      "工作 产品设计师 （交互/视觉）(J10420)\n",
      "工作 {'https://www.liepin.com/job/1926679667.shtml'}\n",
      "工作 产品设计工程师\n",
      "工作 {'https://www.liepin.com/job/1925889631.shtml'}\n",
      "工作 产品设计师\n",
      "工作 {'https://www.liepin.com/job/1925875517.shtml'}\n",
      "工作 产品设计师(J10599)\n",
      "工作 {'https://www.liepin.com/job/1923167031.shtml'}\n",
      "工作 产品设计助理\n",
      "工作 {'https://www.liepin.com/job/1922845125.shtml'}\n",
      "工作 产品设计工程师\n",
      "工作 {'https://www.liepin.com/job/1921157767.shtml'}\n",
      "工作 产品设计工程师\n",
      "工作 {'https://www.liepin.com/job/1920544895.shtml'}\n",
      "工作 产品设计工程师\n",
      "工作 {'https://www.liepin.com/job/1920544893.shtml'}\n",
      "工作 产品设计工程师\n",
      "工作 {'https://www.liepin.com/job/1920544891.shtml'}\n",
      "工作 产品设计工程师\n",
      "工作 {'https://www.liepin.com/job/1920544889.shtml'}\n",
      "工作 医疗行业产品设计管理专家\n",
      "工作 {'https://www.liepin.com/a/19395821.shtml'}\n",
      "工作 暖通产品设计师\n",
      "工作 {'https://www.liepin.com/a/19319341.shtml'}\n",
      "工作 产品设计方向经理\n",
      "工作 {'https://www.liepin.com/a/19095427.shtml'}\n",
      "工作 产品设计工程师\n",
      "工作 {'https://www.liepin.com/a/19037195.shtml'}\n",
      "工作 家居产品设计师\n",
      "工作 {'https://www.liepin.com/a/18944285.shtml'}\n",
      "工作 欧系汽车密封条产品设计开发岗\n",
      "工作 {'https://www.liepin.com/a/18844977.shtml'}\n",
      "工作 产品设计及机械开发中级工程师\n",
      "工作 {'https://www.liepin.com/a/18796345.shtml'}\n",
      "工作 产品设计岗\n",
      "工作 {'https://www.liepin.com/a/18793475.shtml'}\n",
      "工作 牛仔服装产品设计开发专员\n",
      "工作 {'https://www.liepin.com/a/18736129.shtml'}\n",
      "工作 产品设计工程师（制冰机开发）\n",
      "工作 {'https://www.liepin.com/a/18534849.shtml'}\n",
      "工作 汽车滤清器产品设计工程师\n",
      "工作 {'https://www.liepin.com/job/1918398707.shtml'}\n",
      "工作 产品设计及机械开发工程师\n",
      "工作 {'https://www.liepin.com/a/18277181.shtml'}\n",
      "工作 产品设计工程师\n",
      "工作 {'https://www.liepin.com/a/17838601.shtml'}\n",
      "工作 陶瓷产品设计师\n",
      "工作 {'https://www.liepin.com/job/1926855343.shtml'}\n",
      "工作 汽车认证产品设计\n",
      "工作 {'https://www.liepin.com/job/1926853471.shtml'}\n",
      "工作 产品设计师\n",
      "工作 {'https://www.liepin.com/job/1926853067.shtml'}\n",
      "工作 产品设计分析组长\n",
      "工作 {'https://www.liepin.com/job/1926852717.shtml'}\n",
      "工作 集成建筑钢结构产品设计岗\n",
      "工作 {'https://www.liepin.com/job/1926852593.shtml'}\n",
      "工作 产品设计工程师\n",
      "工作 {'https://www.liepin.com/job/1926851575.shtml'}\n",
      "工作 产品设计师（连接器）\n",
      "工作 {'https://www.liepin.com/job/1926850655.shtml'}\n",
      "工作 产品设计师（继电器）\n",
      "工作 {'https://www.liepin.com/job/1926850639.shtml'}\n",
      "工作 制动器产品设计\n",
      "工作 {'https://www.liepin.com/job/1926849801.shtml'}\n",
      "工作 产品设计\n",
      "工作 {'https://www.liepin.com/job/1926849623.shtml'}\n",
      "工作 塑胶产品设计\n",
      "工作 {'https://www.liepin.com/job/1926849083.shtml'}\n",
      "工作 产品经理（产品设计岗）\n",
      "工作 {'https://www.liepin.com/job/1926844865.shtml'}\n",
      "工作 产品设计师\n",
      "工作 {'https://www.liepin.com/job/1926697703.shtml'}\n",
      "工作 产品设计经理\n",
      "工作 {'https://www.liepin.com/job/1926696099.shtml'}\n"
     ]
    }
   ],
   "source": [
    "# 00: 使用爬虫库，要用的函数函数\n",
    "from requests_html import HTMLSession\n",
    "\n",
    "# 01:  创建session对象，保存Cookie值\n",
    "session = HTMLSession()\n",
    "\n",
    "# 02： 把获取到key值等于\"数据分析\"的数据存到r中\n",
    "r = session.get(\"https://www.liepin.com/zhaopin/?key=产品设计\")\n",
    "\n",
    "# 03：通过xpath找到工作标签\n",
    "news = r.html.xpath('//div[@class=\"job-info\"]/h3/a')\n",
    "#             以下所有^^   [@attribute]條件  \n",
    "\n",
    "for new in news:\n",
    "    print(\"工作\",new.text)  # 获得工作标题\n",
    "    print(\"工作\",new.absolute_links)  # 获得工作链接"
   ]
  },
  {
   "cell_type": "markdown",
   "metadata": {},
   "source": [
    "## 找另外的图片"
   ]
  },
  {
   "cell_type": "code",
   "execution_count": 1,
   "metadata": {},
   "outputs": [
    {
     "name": "stdout",
     "output_type": "stream",
     "text": [
      "data:image/png;base64,iVBORw0KGgoAAAANSUhEUgAAAAEAAAABCAQAAAC1HAwCAAAAC0lEQVR42mNgYAAAAAMAASsJTYQAAAAASUVORK5CYII=\n"
     ]
    },
    {
     "data": {
      "text/markdown": [
       "![](data:image/png;base64,iVBORw0KGgoAAAANSUhEUgAAAAEAAAABCAQAAAC1HAwCAAAAC0lEQVR42mNgYAAAAAMAASsJTYQAAAAASUVORK5CYII=)"
      ],
      "text/plain": [
       "<IPython.core.display.Markdown object>"
      ]
     },
     "metadata": {},
     "output_type": "display_data"
    },
    {
     "name": "stdout",
     "output_type": "stream",
     "text": [
      "/rs/5g/1r8/ic/77c87e7d/317096f3.png\n"
     ]
    },
    {
     "data": {
      "text/markdown": [
       "![](/rs/5g/1r8/ic/77c87e7d/317096f3.png)"
      ],
      "text/plain": [
       "<IPython.core.display.Markdown object>"
      ]
     },
     "metadata": {},
     "output_type": "display_data"
    },
    {
     "name": "stdout",
     "output_type": "stream",
     "text": [
      "data:image/svg+xml;base64,PHN2ZyB3aWR0aD0iMTZweCIgaGVpZ2h0PSIxNHB4IiBmb2N1c2FibGU9ImZhbHNlIiB2aWV3Qm94PSIwIDAgMTYgMTQiIHhtbG5zPSJodHRwOi8vd3d3LnczLm9yZy8yMDAwL3N2ZyIgeG1sbnM6eGxpbms9Imh0dHA6Ly93d3cudzMub3JnLzE5OTkveGxpbmsiPjxnIHRyYW5zZm9ybT0idHJhbnNsYXRlKC0xMDg1LjAwMDAwMCwgLTIxNTIuMDAwMDAwKSIgZmlsbD0iIzY2NjY2NiI+PHBhdGggZD0iTTEwODUsMjE1MiBMMTA4NSwyMTUzLjcxMDY3IEwxMDkxLDIxNTkuNzEwNjcgTDEwOTEsMjE2NiBMMTA5NSwyMTY2IEwxMDk1LDIxNTkuNzEwNjcgTDExMDEsMjE1My43MTA2NyBMMTEwMSwyMTUyIEwxMDg1LDIxNTIgWiBNMTA5MiwyMTU5LjI4OTMzIEwxMDg2LDIxNTMuMjg5MzMgTDEwODYsMjE1My4wMDEzMyBMMTEwMCwyMTUzLjAwMTMzIEwxMTAwLDIxNTMuMjg5MzMgTDEwOTQsMjE1OS4yODkzMyBMMTA5NCwyMTY1LjAwMTMzIEwxMDkyLDIxNjUuMDAxMzMgTDEwOTIsMjE1OS4yODkzMyBaIi8+PC9nPjwvc3ZnPg==\n"
     ]
    },
    {
     "data": {
      "text/markdown": [
       "![](data:image/svg+xml;base64,PHN2ZyB3aWR0aD0iMTZweCIgaGVpZ2h0PSIxNHB4IiBmb2N1c2FibGU9ImZhbHNlIiB2aWV3Qm94PSIwIDAgMTYgMTQiIHhtbG5zPSJodHRwOi8vd3d3LnczLm9yZy8yMDAwL3N2ZyIgeG1sbnM6eGxpbms9Imh0dHA6Ly93d3cudzMub3JnLzE5OTkveGxpbmsiPjxnIHRyYW5zZm9ybT0idHJhbnNsYXRlKC0xMDg1LjAwMDAwMCwgLTIxNTIuMDAwMDAwKSIgZmlsbD0iIzY2NjY2NiI+PHBhdGggZD0iTTEwODUsMjE1MiBMMTA4NSwyMTUzLjcxMDY3IEwxMDkxLDIxNTkuNzEwNjcgTDEwOTEsMjE2NiBMMTA5NSwyMTY2IEwxMDk1LDIxNTkuNzEwNjcgTDExMDEsMjE1My43MTA2NyBMMTEwMSwyMTUyIEwxMDg1LDIxNTIgWiBNMTA5MiwyMTU5LjI4OTMzIEwxMDg2LDIxNTMuMjg5MzMgTDEwODYsMjE1My4wMDEzMyBMMTEwMCwyMTUzLjAwMTMzIEwxMTAwLDIxNTMuMjg5MzMgTDEwOTQsMjE1OS4yODkzMyBMMTA5NCwyMTY1LjAwMTMzIEwxMDkyLDIxNjUuMDAxMzMgTDEwOTIsMjE1OS4yODkzMyBaIi8+PC9nPjwvc3ZnPg==)"
      ],
      "text/plain": [
       "<IPython.core.display.Markdown object>"
      ]
     },
     "metadata": {},
     "output_type": "display_data"
    },
    {
     "name": "stdout",
     "output_type": "stream",
     "text": [
      "data:image/svg+xml;base64,PHN2ZyBmb2N1c2FibGU9ImZhbHNlIiB4bWxucz0iaHR0cDovL3d3dy53My5vcmcvMjAwMC9zdmciIHZpZXdCb3g9IjAgMCAxNiAxNiIgZW5hYmxlLWJhY2tncm91bmQ9Im5ldyAwIDAgMTYgMTYiPjxwYXRoIGZpbGw9IiM2NjYiIGQ9Ik0wIDFoMTZ2MS43MTFsLTYgNnY2LjI4OWgtNHYtNi4yODlsLTYtNnYtMS43MTF6Ii8+PC9zdmc+\n"
     ]
    },
    {
     "data": {
      "text/markdown": [
       "![](data:image/svg+xml;base64,PHN2ZyBmb2N1c2FibGU9ImZhbHNlIiB4bWxucz0iaHR0cDovL3d3dy53My5vcmcvMjAwMC9zdmciIHZpZXdCb3g9IjAgMCAxNiAxNiIgZW5hYmxlLWJhY2tncm91bmQ9Im5ldyAwIDAgMTYgMTYiPjxwYXRoIGZpbGw9IiM2NjYiIGQ9Ik0wIDFoMTZ2MS43MTFsLTYgNnY2LjI4OWgtNHYtNi4yODlsLTYtNnYtMS43MTF6Ii8+PC9zdmc+)"
      ],
      "text/plain": [
       "<IPython.core.display.Markdown object>"
      ]
     },
     "metadata": {},
     "output_type": "display_data"
    },
    {
     "name": "stdout",
     "output_type": "stream",
     "text": [
      "https://tse4-mm.cn.bing.net/th/id/OIP.JoAFNxV0vcLxNeEOrLjMQAHaK8?w=191&h=284&c=7&o=5&pid=1.7\n"
     ]
    },
    {
     "data": {
      "text/markdown": [
       "![](https://tse4-mm.cn.bing.net/th/id/OIP.JoAFNxV0vcLxNeEOrLjMQAHaK8?w=191&h=284&c=7&o=5&pid=1.7)"
      ],
      "text/plain": [
       "<IPython.core.display.Markdown object>"
      ]
     },
     "metadata": {},
     "output_type": "display_data"
    },
    {
     "name": "stdout",
     "output_type": "stream",
     "text": [
      "data:image/gif;base64,R0lGODlhAQABAIAAAAAAAP///yH5BAEAAAEALAAAAAABAAEAAAIBTAA7\n"
     ]
    },
    {
     "data": {
      "text/markdown": [
       "![](data:image/gif;base64,R0lGODlhAQABAIAAAAAAAP///yH5BAEAAAEALAAAAAABAAEAAAIBTAA7)"
      ],
      "text/plain": [
       "<IPython.core.display.Markdown object>"
      ]
     },
     "metadata": {},
     "output_type": "display_data"
    },
    {
     "name": "stdout",
     "output_type": "stream",
     "text": [
      "data:image/gif;base64,R0lGODlhAQABAIAAAAAAAP///yH5BAEAAAEALAAAAAABAAEAAAIBTAA7\n"
     ]
    },
    {
     "data": {
      "text/markdown": [
       "![](data:image/gif;base64,R0lGODlhAQABAIAAAAAAAP///yH5BAEAAAEALAAAAAABAAEAAAIBTAA7)"
      ],
      "text/plain": [
       "<IPython.core.display.Markdown object>"
      ]
     },
     "metadata": {},
     "output_type": "display_data"
    },
    {
     "name": "stdout",
     "output_type": "stream",
     "text": [
      "https://tse2-mm.cn.bing.net/th/id/OIP.x4oSk4jKVtfkqda2asSyiQAAAA?w=191&h=268&c=7&o=5&pid=1.7\n"
     ]
    },
    {
     "data": {
      "text/markdown": [
       "![](https://tse2-mm.cn.bing.net/th/id/OIP.x4oSk4jKVtfkqda2asSyiQAAAA?w=191&h=268&c=7&o=5&pid=1.7)"
      ],
      "text/plain": [
       "<IPython.core.display.Markdown object>"
      ]
     },
     "metadata": {},
     "output_type": "display_data"
    },
    {
     "name": "stdout",
     "output_type": "stream",
     "text": [
      "data:image/gif;base64,R0lGODlhAQABAIAAAAAAAP///yH5BAEAAAEALAAAAAABAAEAAAIBTAA7\n"
     ]
    },
    {
     "data": {
      "text/markdown": [
       "![](data:image/gif;base64,R0lGODlhAQABAIAAAAAAAP///yH5BAEAAAEALAAAAAABAAEAAAIBTAA7)"
      ],
      "text/plain": [
       "<IPython.core.display.Markdown object>"
      ]
     },
     "metadata": {},
     "output_type": "display_data"
    },
    {
     "name": "stdout",
     "output_type": "stream",
     "text": [
      "data:image/gif;base64,R0lGODlhAQABAIAAAAAAAP///yH5BAEAAAEALAAAAAABAAEAAAIBTAA7\n"
     ]
    },
    {
     "data": {
      "text/markdown": [
       "![](data:image/gif;base64,R0lGODlhAQABAIAAAAAAAP///yH5BAEAAAEALAAAAAABAAEAAAIBTAA7)"
      ],
      "text/plain": [
       "<IPython.core.display.Markdown object>"
      ]
     },
     "metadata": {},
     "output_type": "display_data"
    },
    {
     "name": "stdout",
     "output_type": "stream",
     "text": [
      "https://tse4-mm.cn.bing.net/th/id/OIP.7AyMUs4-ru_Ky1_2C9ls6AHaEJ?w=191&h=107&c=7&o=5&pid=1.7\n"
     ]
    },
    {
     "data": {
      "text/markdown": [
       "![](https://tse4-mm.cn.bing.net/th/id/OIP.7AyMUs4-ru_Ky1_2C9ls6AHaEJ?w=191&h=107&c=7&o=5&pid=1.7)"
      ],
      "text/plain": [
       "<IPython.core.display.Markdown object>"
      ]
     },
     "metadata": {},
     "output_type": "display_data"
    },
    {
     "name": "stdout",
     "output_type": "stream",
     "text": [
      "https://tse1-mm.cn.bing.net/th/id/OIP.4q8aat892xrgODApamJmeAAAAA?w=190&h=254&c=7&o=5&pid=1.7\n"
     ]
    },
    {
     "data": {
      "text/markdown": [
       "![](https://tse1-mm.cn.bing.net/th/id/OIP.4q8aat892xrgODApamJmeAAAAA?w=190&h=254&c=7&o=5&pid=1.7)"
      ],
      "text/plain": [
       "<IPython.core.display.Markdown object>"
      ]
     },
     "metadata": {},
     "output_type": "display_data"
    },
    {
     "name": "stdout",
     "output_type": "stream",
     "text": [
      "data:image/gif;base64,R0lGODlhAQABAIAAAAAAAP///yH5BAEAAAEALAAAAAABAAEAAAIBTAA7\n"
     ]
    },
    {
     "data": {
      "text/markdown": [
       "![](data:image/gif;base64,R0lGODlhAQABAIAAAAAAAP///yH5BAEAAAEALAAAAAABAAEAAAIBTAA7)"
      ],
      "text/plain": [
       "<IPython.core.display.Markdown object>"
      ]
     },
     "metadata": {},
     "output_type": "display_data"
    },
    {
     "name": "stdout",
     "output_type": "stream",
     "text": [
      "data:image/gif;base64,R0lGODlhAQABAIAAAAAAAP///yH5BAEAAAEALAAAAAABAAEAAAIBTAA7\n"
     ]
    },
    {
     "data": {
      "text/markdown": [
       "![](data:image/gif;base64,R0lGODlhAQABAIAAAAAAAP///yH5BAEAAAEALAAAAAABAAEAAAIBTAA7)"
      ],
      "text/plain": [
       "<IPython.core.display.Markdown object>"
      ]
     },
     "metadata": {},
     "output_type": "display_data"
    },
    {
     "name": "stdout",
     "output_type": "stream",
     "text": [
      "https://tse2-mm.cn.bing.net/th/id/OIP.mOYYZV5EVywyEu3XurmIAgAAAA?w=191&h=190&c=7&o=5&pid=1.7\n"
     ]
    },
    {
     "data": {
      "text/markdown": [
       "![](https://tse2-mm.cn.bing.net/th/id/OIP.mOYYZV5EVywyEu3XurmIAgAAAA?w=191&h=190&c=7&o=5&pid=1.7)"
      ],
      "text/plain": [
       "<IPython.core.display.Markdown object>"
      ]
     },
     "metadata": {},
     "output_type": "display_data"
    },
    {
     "name": "stdout",
     "output_type": "stream",
     "text": [
      "https://tse2-mm.cn.bing.net/th/id/OIP.1W2YWCTd-tUMhi7mXEhXqgHaFz?w=191&h=150&c=7&o=5&pid=1.7\n"
     ]
    },
    {
     "data": {
      "text/markdown": [
       "![](https://tse2-mm.cn.bing.net/th/id/OIP.1W2YWCTd-tUMhi7mXEhXqgHaFz?w=191&h=150&c=7&o=5&pid=1.7)"
      ],
      "text/plain": [
       "<IPython.core.display.Markdown object>"
      ]
     },
     "metadata": {},
     "output_type": "display_data"
    },
    {
     "name": "stdout",
     "output_type": "stream",
     "text": [
      "data:image/gif;base64,R0lGODlhAQABAIAAAAAAAP///yH5BAEAAAEALAAAAAABAAEAAAIBTAA7\n"
     ]
    },
    {
     "data": {
      "text/markdown": [
       "![](data:image/gif;base64,R0lGODlhAQABAIAAAAAAAP///yH5BAEAAAEALAAAAAABAAEAAAIBTAA7)"
      ],
      "text/plain": [
       "<IPython.core.display.Markdown object>"
      ]
     },
     "metadata": {},
     "output_type": "display_data"
    },
    {
     "name": "stdout",
     "output_type": "stream",
     "text": [
      "data:image/gif;base64,R0lGODlhAQABAIAAAAAAAP///yH5BAEAAAEALAAAAAABAAEAAAIBTAA7\n"
     ]
    },
    {
     "data": {
      "text/markdown": [
       "![](data:image/gif;base64,R0lGODlhAQABAIAAAAAAAP///yH5BAEAAAEALAAAAAABAAEAAAIBTAA7)"
      ],
      "text/plain": [
       "<IPython.core.display.Markdown object>"
      ]
     },
     "metadata": {},
     "output_type": "display_data"
    },
    {
     "name": "stdout",
     "output_type": "stream",
     "text": [
      "https://tse3-mm.cn.bing.net/th/id/OIP.xWaKBK8Up8QmWL3JCxS3nQHaEK?w=191&h=107&c=7&o=5&pid=1.7\n"
     ]
    },
    {
     "data": {
      "text/markdown": [
       "![](https://tse3-mm.cn.bing.net/th/id/OIP.xWaKBK8Up8QmWL3JCxS3nQHaEK?w=191&h=107&c=7&o=5&pid=1.7)"
      ],
      "text/plain": [
       "<IPython.core.display.Markdown object>"
      ]
     },
     "metadata": {},
     "output_type": "display_data"
    },
    {
     "name": "stdout",
     "output_type": "stream",
     "text": [
      "https://tse2-mm.cn.bing.net/th/id/OIP.4bzK3LjZuN-8-hQzPZxjwgHaEK?w=191&h=107&c=7&o=5&pid=1.7\n"
     ]
    },
    {
     "data": {
      "text/markdown": [
       "![](https://tse2-mm.cn.bing.net/th/id/OIP.4bzK3LjZuN-8-hQzPZxjwgHaEK?w=191&h=107&c=7&o=5&pid=1.7)"
      ],
      "text/plain": [
       "<IPython.core.display.Markdown object>"
      ]
     },
     "metadata": {},
     "output_type": "display_data"
    },
    {
     "name": "stdout",
     "output_type": "stream",
     "text": [
      "data:image/gif;base64,R0lGODlhAQABAIAAAAAAAP///yH5BAEAAAEALAAAAAABAAEAAAIBTAA7\n"
     ]
    },
    {
     "data": {
      "text/markdown": [
       "![](data:image/gif;base64,R0lGODlhAQABAIAAAAAAAP///yH5BAEAAAEALAAAAAABAAEAAAIBTAA7)"
      ],
      "text/plain": [
       "<IPython.core.display.Markdown object>"
      ]
     },
     "metadata": {},
     "output_type": "display_data"
    },
    {
     "name": "stdout",
     "output_type": "stream",
     "text": [
      "data:image/gif;base64,R0lGODlhAQABAIAAAAAAAP///yH5BAEAAAEALAAAAAABAAEAAAIBTAA7\n"
     ]
    },
    {
     "data": {
      "text/markdown": [
       "![](data:image/gif;base64,R0lGODlhAQABAIAAAAAAAP///yH5BAEAAAEALAAAAAABAAEAAAIBTAA7)"
      ],
      "text/plain": [
       "<IPython.core.display.Markdown object>"
      ]
     },
     "metadata": {},
     "output_type": "display_data"
    },
    {
     "name": "stdout",
     "output_type": "stream",
     "text": [
      "/sa/simg/Flag_Feedback.png\n"
     ]
    },
    {
     "data": {
      "text/markdown": [
       "![](/sa/simg/Flag_Feedback.png)"
      ],
      "text/plain": [
       "<IPython.core.display.Markdown object>"
      ]
     },
     "metadata": {},
     "output_type": "display_data"
    },
    {
     "name": "stdout",
     "output_type": "stream",
     "text": [
      "/rs/5g/Li/ic/4907366b/da274d75.png\n"
     ]
    },
    {
     "data": {
      "text/markdown": [
       "![](/rs/5g/Li/ic/4907366b/da274d75.png)"
      ],
      "text/plain": [
       "<IPython.core.display.Markdown object>"
      ]
     },
     "metadata": {},
     "output_type": "display_data"
    }
   ],
   "source": [
    "# 01：导入需要的模块和函数\n",
    "from requests_html import HTMLSession\n",
    "from IPython.core.display import display, Markdown\n",
    "\n",
    "# 02: 创建session对象，保存Cookie值\n",
    "session = HTMLSession()\n",
    "\n",
    "# 03：将爬取到的数据存储到r中\n",
    "r = session.get(\"https://cn.bing.com/images/search?q=小谢尔顿\")\n",
    "\n",
    "# 04： 通过xpath找到工作标签：\"//\"从匹配选择的当前节点选择文档中的节点，而不考虑位置，\"@\"选取属性\n",
    "items = r.html.xpath('//img/@src')\n",
    "\n",
    "for url in items:\n",
    "    print(url)  # 获得图片src url（文本形式）\n",
    "    display(Markdown('![]({url})'.format(url=url)))  # 展示图片   "
   ]
  },
  {
   "cell_type": "markdown",
   "metadata": {},
   "source": [
    "## 找另外的工作用不同的限定不同城市"
   ]
  },
  {
   "cell_type": "code",
   "execution_count": 3,
   "metadata": {},
   "outputs": [
    {
     "name": "stdout",
     "output_type": "stream",
     "text": [
      "城市： ['上海', '上海-静安区', '杭州-余杭区', '成都-郫都区', '上海', '上海', '福州-仓山区', '北京', '湖州', '佛山-石湾', '深圳', '深圳-科技园', '上海-长征', '杭州-长河', '北京-莲花池', '北京-莲花池', '北京-莲花池', '北京-莲花池', '上海-长征', '青岛-香港中路', '深圳-科技园', '上海-七宝', '深圳-南山区', '重庆-巴南区', '广州-增城区', '深圳-福田区', '上海-长征', '深圳-车公庙', '广州-石碁', '成都-郫都区', '防城港', '北京', '南京-泰山', '上海', '成都', '杭州-余杭区', '宁波', '广州', '深圳']\n"
     ]
    }
   ],
   "source": [
    "# 00: 使用爬虫库，要用的函数函数\n",
    "from requests_html import HTMLSession\n",
    "\n",
    "# 01:  创建session对象，保存Cookie值\n",
    "session = HTMLSession()\n",
    "\n",
    "# 02： 把爬取到数据传递给r\n",
    "r = session.get(\"https://www.liepin.com/zhaopin/?key=设计师\")\n",
    "\n",
    "# 03：通过xpath找到工作标签\n",
    "citys = r.html.xpath('//*[@id=\"sojob\"]/div/div/div/div/ul/li/div/div/p/a[@class=\"area\"]/text()')\n",
    "#             以下所有^^   [@attribute]條件  \n",
    "print(\"城市：\",citys)\n"
   ]
  },
  {
   "cell_type": "markdown",
   "metadata": {},
   "source": [
    "## 找另外的工作 且 抽取（extract）出 薪水丶城市等信息"
   ]
  },
  {
   "cell_type": "code",
   "execution_count": 30,
   "metadata": {},
   "outputs": [
    {
     "name": "stdout",
     "output_type": "stream",
     "text": [
      "['上海', '上海-静安区', '杭州-余杭区', '成都-郫都区', '上海', '上海', '福州-仓山区', '北京', '湖州', '佛山-石湾', '深圳', '深圳-科技园', '上海-长征', '杭州-长河', '北京-莲花池', '北京-莲花池', '北京-莲花池', '北京-莲花池', '上海-长征', '青岛-香港中路', '深圳-科技园', '上海-七宝', '深圳-南山区', '重庆-巴南区', '广州-增城区', '深圳-福田区', '上海-长征', '深圳-车公庙', '广州-石碁', '成都-郫都区', '防城港', '北京', '南京-泰山', '上海', '成都', '杭州-余杭区', '宁波', '广州', '深圳'] ['20-30k·12薪', '10-20k·14薪', '20-40k·12薪', '面议', '面议', '面议', '12-16k·15薪', '6-10k·12薪', '12-25k·12薪', '10-12k·12薪', '20-50k·12薪', '12-15k·12薪', '8-10k·12薪', '面议', '20-25k·15薪', '10-25k·12薪', '10-20k·12薪', '10-25k·12薪', '10-30k·12薪', '8-12k·12薪', '面议', '5-8k·12薪', '8-20k·12薪', '8-10k·12薪', '15-25k·12薪', '面议', '8-11k·12薪', '8-12k·12薪', '7-10k·12薪', '10-15k·12薪', '8-15k·12薪', '8-10k·12薪', '10-23k·12薪', '6-8k·12薪', '15-35k·12薪', '10-16k·12薪', '15-30k·12薪', '6-8k·12薪', '8-12k·12薪', '8-10k·12薪'] ['大专及以上', '大专及以上', '本科及以上', '统招本科', '大专及以上', '大专及以上', '本科及以上', '大专及以上', '本科及以上', '大专及以上', '大专及以上', '大专及以上', '硕士及以上', '大专及以上', '本科及以上', '统招本科', '统招本科', '统招本科', '统招本科', '大专及以上', '统招本科', '大专及以上', '大专及以上', '本科及以上', '本科及以上', '大专及以上', '学历不限', '学历不限', '大专及以上', '统招本科', '统招本科', '大专及以上', '大专及以上', '大专及以上', '本科及以上', '本科及以上', '本科及以上', '大专及以上', '统招本科', '大专及以上']\n",
      "城市： 上海 薪资情况： 20-30k·12薪 学历： 大专及以上\n",
      "城市： 上海-静安区 薪资情况： 10-20k·14薪 学历： 大专及以上\n",
      "城市： 杭州-余杭区 薪资情况： 20-40k·12薪 学历： 本科及以上\n",
      "城市： 成都-郫都区 薪资情况： 面议 学历： 统招本科\n",
      "城市： 上海 薪资情况： 面议 学历： 大专及以上\n",
      "城市： 上海 薪资情况： 面议 学历： 大专及以上\n",
      "城市： 福州-仓山区 薪资情况： 12-16k·15薪 学历： 本科及以上\n",
      "城市： 北京 薪资情况： 6-10k·12薪 学历： 大专及以上\n",
      "城市： 湖州 薪资情况： 12-25k·12薪 学历： 本科及以上\n",
      "城市： 佛山-石湾 薪资情况： 10-12k·12薪 学历： 大专及以上\n",
      "城市： 深圳 薪资情况： 20-50k·12薪 学历： 大专及以上\n",
      "城市： 深圳-科技园 薪资情况： 12-15k·12薪 学历： 大专及以上\n",
      "城市： 上海-长征 薪资情况： 8-10k·12薪 学历： 硕士及以上\n",
      "城市： 杭州-长河 薪资情况： 面议 学历： 大专及以上\n",
      "城市： 北京-莲花池 薪资情况： 20-25k·15薪 学历： 本科及以上\n",
      "城市： 北京-莲花池 薪资情况： 10-25k·12薪 学历： 统招本科\n",
      "城市： 北京-莲花池 薪资情况： 10-20k·12薪 学历： 统招本科\n",
      "城市： 北京-莲花池 薪资情况： 10-25k·12薪 学历： 统招本科\n",
      "城市： 上海-长征 薪资情况： 10-30k·12薪 学历： 统招本科\n",
      "城市： 青岛-香港中路 薪资情况： 8-12k·12薪 学历： 大专及以上\n",
      "城市： 深圳-科技园 薪资情况： 面议 学历： 统招本科\n",
      "城市： 上海-七宝 薪资情况： 5-8k·12薪 学历： 大专及以上\n",
      "城市： 深圳-南山区 薪资情况： 8-20k·12薪 学历： 大专及以上\n",
      "城市： 重庆-巴南区 薪资情况： 8-10k·12薪 学历： 本科及以上\n",
      "城市： 广州-增城区 薪资情况： 15-25k·12薪 学历： 本科及以上\n",
      "城市： 深圳-福田区 薪资情况： 面议 学历： 大专及以上\n",
      "城市： 上海-长征 薪资情况： 8-11k·12薪 学历： 学历不限\n",
      "城市： 深圳-车公庙 薪资情况： 8-12k·12薪 学历： 学历不限\n",
      "城市： 广州-石碁 薪资情况： 7-10k·12薪 学历： 大专及以上\n",
      "城市： 成都-郫都区 薪资情况： 10-15k·12薪 学历： 统招本科\n",
      "城市： 防城港 薪资情况： 8-15k·12薪 学历： 统招本科\n",
      "城市： 北京 薪资情况： 8-10k·12薪 学历： 大专及以上\n",
      "城市： 南京-泰山 薪资情况： 10-23k·12薪 学历： 大专及以上\n",
      "城市： 上海 薪资情况： 6-8k·12薪 学历： 大专及以上\n",
      "城市： 成都 薪资情况： 15-35k·12薪 学历： 本科及以上\n",
      "城市： 杭州-余杭区 薪资情况： 10-16k·12薪 学历： 本科及以上\n",
      "城市： 宁波 薪资情况： 15-30k·12薪 学历： 本科及以上\n",
      "城市： 广州 薪资情况： 6-8k·12薪 学历： 大专及以上\n",
      "城市： 深圳 薪资情况： 8-12k·12薪 学历： 统招本科\n"
     ]
    }
   ],
   "source": [
    "# 00: 使用爬虫库，要用的函数函数\n",
    "from requests_html import HTMLSession\n",
    "\n",
    "# 01:  创建session对象，保存Cookie值\n",
    "session = HTMLSession()\n",
    "\n",
    "# 02： 把爬取到数据传递给res\n",
    "res = session.get(\"https://www.liepin.com/zhaopin/?key=设计师\")\n",
    "\n",
    "# 03： 通过xpath找到属性为area和texting-warming的值\n",
    "citys = r.html.xpath('//*[@id=\"sojob\"]/div/div/div/div/ul/li/div/div/p/a[@class=\"area\"]/text()')\n",
    "salary = r.html.xpath('//*[@id=\"sojob\"]/div/div/div/div/ul/li/div/div/p/span[@class=\"text-warning\"]/text()')\n",
    "education = r.html.xpath('//*[@id=\"sojob\"]/div/div/div/div/ul/li/div/div/p/span[@class=\"edu\"]/text()')\n",
    "# 04： 检查爬取到数据\n",
    "print(citys,salary,education)\n",
    "\n",
    "# 05：通过for循环输出不同城市对应的薪资\n",
    "for city,every_salary,every_education in zip(citys,salary,education):\n",
    "    print(\"城市：\",city,\"薪资情况：\",every_salary,\"学历：\",every_education)"
   ]
  },
  {
   "cell_type": "markdown",
   "metadata": {},
   "source": [
    "\n"
   ]
  },
  {
   "cell_type": "code",
   "execution_count": null,
   "metadata": {},
   "outputs": [],
   "source": []
  },
  {
   "cell_type": "code",
   "execution_count": null,
   "metadata": {},
   "outputs": [],
   "source": []
  }
 ],
 "metadata": {
  "kernelspec": {
   "display_name": "Python 3",
   "language": "python",
   "name": "python3"
  },
  "language_info": {
   "codemirror_mode": {
    "name": "ipython",
    "version": 3
   },
   "file_extension": ".py",
   "mimetype": "text/x-python",
   "name": "python",
   "nbconvert_exporter": "python",
   "pygments_lexer": "ipython3",
   "version": "3.7.4"
  },
  "toc": {
   "base_numbering": 1,
   "nav_menu": {},
   "number_sections": true,
   "sideBar": true,
   "skip_h1_title": false,
   "title_cell": "Table of Contents",
   "title_sidebar": "Contents",
   "toc_cell": false,
   "toc_position": {},
   "toc_section_display": true,
   "toc_window_display": false
  }
 },
 "nbformat": 4,
 "nbformat_minor": 2
}
